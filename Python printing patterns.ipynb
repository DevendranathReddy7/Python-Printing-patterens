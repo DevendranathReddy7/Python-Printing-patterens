{
 "cells": [
  {
   "cell_type": "markdown",
   "id": "e72ccdf5",
   "metadata": {},
   "source": [
    "# PRINTING PATTERNS"
   ]
  },
  {
   "cell_type": "code",
   "execution_count": null,
   "id": "9a19135c",
   "metadata": {},
   "outputs": [],
   "source": []
  },
  {
   "cell_type": "markdown",
   "id": "5176a877",
   "metadata": {},
   "source": [
    "# TYPE 1: SOLID TRIANGLES\n",
    "* \n",
    "* * \n",
    "* * * \n",
    "* * * * \n",
    "* \n",
    "* * \n",
    "* * * \n",
    "* * * * "
   ]
  },
  {
   "cell_type": "code",
   "execution_count": 1,
   "id": "953093e7",
   "metadata": {},
   "outputs": [
    {
     "name": "stdout",
     "output_type": "stream",
     "text": [
      "5\n",
      "* \n",
      "* * \n",
      "* * * \n",
      "* * * * \n",
      "* * * * * \n",
      "* \n",
      "* * \n",
      "* * * \n",
      "* * * * \n",
      "* * * * * \n"
     ]
    }
   ],
   "source": [
    "n=int(input())\n",
    "a=1\n",
    "while a<=n:\n",
    "    print(\"* \"*a)\n",
    "    a=a+1\n",
    "a=1\n",
    "while a<=n:\n",
    "    print(\"* \"*a)\n",
    "    a=a+1\n"
   ]
  },
  {
   "cell_type": "markdown",
   "id": "5c43da17",
   "metadata": {},
   "source": [
    "# TYPE 2: SOLID RECTANGLE\n",
    "+ + + + +  \n",
    "+ + + + +  \n",
    "+ + + + + \n",
    "    "
   ]
  },
  {
   "cell_type": "code",
   "execution_count": 4,
   "id": "f75fbd66",
   "metadata": {},
   "outputs": [
    {
     "name": "stdout",
     "output_type": "stream",
     "text": [
      "5\n",
      "6\n",
      "+ + + + + +  \n",
      "+ + + + + +  \n",
      "+ + + + + +  \n",
      "+ + + + + +  \n",
      "+ + + + + +  \n"
     ]
    }
   ],
   "source": [
    "m = int(input())\n",
    "n= int(input())\n",
    "for i in range(m):\n",
    "    for j in range(n):\n",
    "        print(\"+ \",end=\"\")\n",
    "    print(\" \")"
   ]
  },
  {
   "cell_type": "markdown",
   "id": "571ff2e4",
   "metadata": {},
   "source": [
    "# TYPE 3: HALLOW SQUARE\n",
    "        * * * * \n",
    "        *     * \n",
    "        *     * \n",
    "        * * * * "
   ]
  },
  {
   "cell_type": "code",
   "execution_count": 3,
   "id": "05c2c71a",
   "metadata": {},
   "outputs": [
    {
     "name": "stdout",
     "output_type": "stream",
     "text": [
      "4\n",
      "* * * * \n",
      "*     * \n",
      "*     * \n",
      "* * * * \n"
     ]
    }
   ],
   "source": [
    "n=int(input())\n",
    "for i in range(n):\n",
    "    for j in range(n):\n",
    "        if i==0 or i==n-1 or j==0 or j==n-1:\n",
    "            print(\"*\",end=\" \")\n",
    "        else:\n",
    "            print(\" \",end=\" \")\n",
    "    print()\n"
   ]
  },
  {
   "cell_type": "markdown",
   "id": "0e96663a",
   "metadata": {},
   "source": [
    "# TYPE 4: HALLOW RIGHT TRIANGLE\n",
    "    * * * * \n",
    "      *   * \n",
    "        * * \n",
    "          *"
   ]
  },
  {
   "cell_type": "code",
   "execution_count": 5,
   "id": "9368072a",
   "metadata": {},
   "outputs": [
    {
     "name": "stdout",
     "output_type": "stream",
     "text": [
      "6\n",
      "* * * * * * \n",
      "  *       * \n",
      "    *     * \n",
      "      *   * \n",
      "        * * \n",
      "          *\n"
     ]
    }
   ],
   "source": [
    "n=int(input())\n",
    "for i in range(n):\n",
    "    if i==0:\n",
    "        print(\"* \"*n)\n",
    "    elif i==n-1:\n",
    "        print(\"  \"*(n-1)+ \"*\")\n",
    "    else:\n",
    "        l_s = '  '*i\n",
    "        h_s = '  '*(n-i-2)\n",
    "        print(l_s+\"* \"+h_s+\"* \")"
   ]
  },
  {
   "cell_type": "markdown",
   "id": "9fed9621",
   "metadata": {},
   "source": [
    "# TYPE 5:HALLOW RIGHT TRIANGLE\n",
    "                *\n",
    "              * *\n",
    "            *   *\n",
    "          *     *\n",
    "        * * * * *"
   ]
  },
  {
   "cell_type": "code",
   "execution_count": 7,
   "id": "912c9560",
   "metadata": {},
   "outputs": [
    {
     "name": "stdout",
     "output_type": "stream",
     "text": [
      "4\n",
      "      *\n",
      "    * *\n",
      "  *   *\n",
      "* * * * \n"
     ]
    }
   ],
   "source": [
    "n=int(input())\n",
    "for i in range(n):\n",
    "    if i==0:\n",
    "        print(\"  \"*(n-1)+\"*\")\n",
    "    elif i==n-1:\n",
    "        print(\"* \"*n)\n",
    "    else:\n",
    "        l_s = \"  \"*(n-i-1)\n",
    "        h_s = \"  \"*(i-1)\n",
    "        print(l_s+\"*\"+h_s+\" *\")"
   ]
  },
  {
   "cell_type": "markdown",
   "id": "9a8fbf3f",
   "metadata": {},
   "source": [
    "# TYPE 6:INVERTED SOLID RIGHT TRIANGLE\n",
    "    \n",
    "    * * * * \n",
    "      * * * \n",
    "        * * \n",
    "          *"
   ]
  },
  {
   "cell_type": "code",
   "execution_count": 8,
   "id": "4743e645",
   "metadata": {},
   "outputs": [
    {
     "name": "stdout",
     "output_type": "stream",
     "text": [
      "3\n",
      "* * * \n",
      "  * * \n",
      "    * \n"
     ]
    }
   ],
   "source": [
    "n=int(input())\n",
    "for i in range(n):\n",
    "    if i==0:\n",
    "        print(\"* \"*n)\n",
    "    elif i==n-1:\n",
    "        print(\"  \"*(n-1)+\"* \")\n",
    "    else:\n",
    "        l_s= \"  \"*(i)\n",
    "        print(l_s + \"* \"*(n-i))\n",
    "        "
   ]
  },
  {
   "cell_type": "markdown",
   "id": "83015470",
   "metadata": {},
   "source": [
    "# TYPE 7: SANDGLASS WITH STARS\n",
    "    * * * * * \n",
    "     * * * * \n",
    "      * * * \n",
    "       * * \n",
    "        * \n",
    "       * * \n",
    "      * * * \n",
    "     * * * * \n",
    "    * * * * * "
   ]
  },
  {
   "cell_type": "code",
   "execution_count": 9,
   "id": "f0fea701",
   "metadata": {},
   "outputs": [
    {
     "name": "stdout",
     "output_type": "stream",
     "text": [
      "4\n",
      "* * * * \n",
      " * * * \n",
      "  * * \n",
      "   * \n",
      "  * * \n",
      " * * * \n",
      "* * * * \n"
     ]
    }
   ],
   "source": [
    "n=int(input())\n",
    "for i in range(n-1):\n",
    "    left=\" \"*i\n",
    "    star=\"* \"*(n-i)\n",
    "    print(left + star)\n",
    "for i in range(1,n+1):\n",
    "    left=\" \"*(n-i)\n",
    "    star=\"* \"*i\n",
    "    print(left+star)"
   ]
  },
  {
   "cell_type": "markdown",
   "id": "d33d0107",
   "metadata": {},
   "source": [
    "# TYPE 8:ALPHA PATTERN\n",
    "A B\n",
    "A B C\n",
    "A B C D\n",
    "A B C D E"
   ]
  },
  {
   "cell_type": "code",
   "execution_count": 12,
   "id": "c09a2e2c",
   "metadata": {},
   "outputs": [
    {
     "name": "stdout",
     "output_type": "stream",
     "text": [
      "4\n",
      "A \n",
      "A B \n",
      "A B C \n",
      "A B C D \n"
     ]
    }
   ],
   "source": [
    "n = int(input())\n",
    "for i in range (65,n+65):\n",
    "    for j in range(65,i+1):\n",
    "        print(chr(j),end = \" \")\n",
    "    print(\"\")"
   ]
  },
  {
   "cell_type": "markdown",
   "id": "6554c4d4",
   "metadata": {},
   "source": [
    "# TYPE 9: W PATTERN\n",
    "    * * * * * * * * * * * * * * * * * * * \n",
    "     * * * * * * * * * * * * * * * * * * \n",
    "      * * * * * * * *   * * * * * * * * \n",
    "       * * * * * * *     * * * * * * * \n",
    "        * * * * * *       * * * * * * \n",
    "         * * * * *         * * * * * \n",
    "          * * * *           * * * * \n",
    "           * * *             * * * \n",
    "            * *               * * \n",
    "             *                 * "
   ]
  },
  {
   "cell_type": "code",
   "execution_count": 14,
   "id": "3c347144",
   "metadata": {},
   "outputs": [
    {
     "name": "stdout",
     "output_type": "stream",
     "text": [
      "10\n",
      "* * * * * * * * * * * * * * * * * * * \n",
      " * * * * * * * * * * * * * * * * * * \n",
      "  * * * * * * * *   * * * * * * * * \n",
      "   * * * * * * *     * * * * * * * \n",
      "    * * * * * *       * * * * * * \n",
      "     * * * * *         * * * * * \n",
      "      * * * *           * * * * \n",
      "       * * *             * * * \n",
      "        * *               * * \n",
      "         *                 * \n"
     ]
    }
   ],
   "source": [
    "n=int(input())\n",
    "for i in range(1,n+1):\n",
    "    for j in range(2*n,2*n-1,-1):\n",
    "        if i ==1:\n",
    "            print(\"* \"*(j-1))\n",
    "        else:\n",
    "            l=\" \"*(i-1)\n",
    "            h=\"  \"*(i-2)\n",
    "            print(l+\"* \"*(n-i+1)+h+\"* \"*(n-i+1))\n",
    "            "
   ]
  },
  {
   "cell_type": "markdown",
   "id": "32e39347",
   "metadata": {},
   "source": [
    "# TYPE 10: PYRAMID WOTH 0'S & DOT(.)\n",
    "    . . . . . . . . . . . . 0 . . . . . . . . . . . . \n",
    "    . . . . . . . . . . . 0 0 0 . . . . . . . . . . . \n",
    "    . . . . . . . . . . 0 0 0 0 0 . . . . . . . . . . \n",
    "    . . . . . . . . . 0 0 0 0 0 0 0 . . . . . . . . . \n",
    "    . . . . . . . . 0 0 0 0 0 0 0 0 0 . . . . . . . . \n",
    "    . . . . . . . 0 0 0 0 0 0 0 0 0 0 0 . . . . . . . \n",
    "    . . . . . . 0 0 0 0 0 0 0 0 0 0 0 0 0 . . . . . . \n",
    "    . . . . . 0 0 0 0 0 0 0 0 0 0 0 0 0 0 0 . . . . . \n",
    "    . . . . 0 0 0 0 0 0 0 0 0 0 0 0 0 0 0 0 0 . . . . \n",
    "    . . . 0 0 0 0 0 0 0 0 0 0 0 0 0 0 0 0 0 0 0 . . . \n",
    "    . . 0 0 0 0 0 0 0 0 0 0 0 0 0 0 0 0 0 0 0 0 0 . . \n",
    "    . 0 0 0 0 0 0 0 0 0 0 0 0 0 0 0 0 0 0 0 0 0 0 0 . \n",
    "    0 0 0 0 0 0 0 0 0 0 0 0 0 0 0 0 0 0 0 0 0 0 0 0 0 "
   ]
  },
  {
   "cell_type": "code",
   "execution_count": 15,
   "id": "f2d484ee",
   "metadata": {},
   "outputs": [
    {
     "name": "stdout",
     "output_type": "stream",
     "text": [
      "13\n",
      ". . . . . . . . . . . . 0 . . . . . . . . . . . . \n",
      ". . . . . . . . . . . 0 0 0 . . . . . . . . . . . \n",
      ". . . . . . . . . . 0 0 0 0 0 . . . . . . . . . . \n",
      ". . . . . . . . . 0 0 0 0 0 0 0 . . . . . . . . . \n",
      ". . . . . . . . 0 0 0 0 0 0 0 0 0 . . . . . . . . \n",
      ". . . . . . . 0 0 0 0 0 0 0 0 0 0 0 . . . . . . . \n",
      ". . . . . . 0 0 0 0 0 0 0 0 0 0 0 0 0 . . . . . . \n",
      ". . . . . 0 0 0 0 0 0 0 0 0 0 0 0 0 0 0 . . . . . \n",
      ". . . . 0 0 0 0 0 0 0 0 0 0 0 0 0 0 0 0 0 . . . . \n",
      ". . . 0 0 0 0 0 0 0 0 0 0 0 0 0 0 0 0 0 0 0 . . . \n",
      ". . 0 0 0 0 0 0 0 0 0 0 0 0 0 0 0 0 0 0 0 0 0 . . \n",
      ". 0 0 0 0 0 0 0 0 0 0 0 0 0 0 0 0 0 0 0 0 0 0 0 . \n",
      "0 0 0 0 0 0 0 0 0 0 0 0 0 0 0 0 0 0 0 0 0 0 0 0 0 \n"
     ]
    }
   ],
   "source": [
    "n=int(input())\n",
    "for i in range(1,n+1):\n",
    "    dot=\". \"*(n-i)\n",
    "    zero=\"0 \"*((2*i)-1)\n",
    "    print(dot+zero+dot)"
   ]
  },
  {
   "cell_type": "markdown",
   "id": "0ff33ac6",
   "metadata": {},
   "source": [
    "# TYPE 11: DIAMNOD\n",
    "         * \n",
    "        * * \n",
    "       * * * \n",
    "      * * * * \n",
    "     * * * * * \n",
    "    * * * * * * \n",
    "     *       *\n",
    "      *     *\n",
    "       *   *\n",
    "        * *\n",
    "         *"
   ]
  },
  {
   "cell_type": "code",
   "execution_count": null,
   "id": "d2921943",
   "metadata": {},
   "outputs": [],
   "source": [
    "n=int(input())\n",
    "for i in range(1,n+1):\n",
    "    p=\"\"\n",
    "    for j in range(1,i+1):\n",
    "        p=p+str(\"*\")+\" \"\n",
    "        l= \" \"*(n-i)\n",
    "    print(l+p)\n",
    "for i in range(1,n):\n",
    "    if i ==n-1:\n",
    "        print(\" \"*(n-1)+\"*\")\n",
    "    else:\n",
    "        for j in range(1,i+1):\n",
    "            l= \" \"*(i)\n",
    "            h=\"  \"*(n-i-2)\n",
    "        print(l+\"* \"+h+\"*\")"
   ]
  },
  {
   "cell_type": "markdown",
   "id": "5402ed53",
   "metadata": {},
   "source": [
    "# TYPE 12: DIAMOND WITH NUMBERS\n",
    "             1 \n",
    "            1 2 \n",
    "           1 2 3 \n",
    "          1 2 3 4 \n",
    "         1 2 3 4 5 \n",
    "        1 2 3 4 5 6 \n",
    "       1 2 3 4 5 6 7 \n",
    "      1 2 3 4 5 6 7 8 \n",
    "     1 2 3 4 5 6 7 8 9 \n",
    "    1 2 3 4 5 6 7 8 9 10 \n",
    "     1 2 3 4 5 6 7 8 9 \n",
    "      1 2 3 4 5 6 7 8 \n",
    "       1 2 3 4 5 6 7 \n",
    "        1 2 3 4 5 6 \n",
    "         1 2 3 4 5 \n",
    "          1 2 3 4 \n",
    "           1 2 3 \n",
    "            1 2 \n",
    "             1 "
   ]
  },
  {
   "cell_type": "code",
   "execution_count": 17,
   "id": "a5ea8f85",
   "metadata": {},
   "outputs": [
    {
     "name": "stdout",
     "output_type": "stream",
     "text": [
      "10\n",
      "         1 \n",
      "        1 2 \n",
      "       1 2 3 \n",
      "      1 2 3 4 \n",
      "     1 2 3 4 5 \n",
      "    1 2 3 4 5 6 \n",
      "   1 2 3 4 5 6 7 \n",
      "  1 2 3 4 5 6 7 8 \n",
      " 1 2 3 4 5 6 7 8 9 \n",
      "1 2 3 4 5 6 7 8 9 10 \n",
      " 1 2 3 4 5 6 7 8 9 \n",
      "  1 2 3 4 5 6 7 8 \n",
      "   1 2 3 4 5 6 7 \n",
      "    1 2 3 4 5 6 \n",
      "     1 2 3 4 5 \n",
      "      1 2 3 4 \n",
      "       1 2 3 \n",
      "        1 2 \n",
      "         1 \n",
      "         \n"
     ]
    }
   ],
   "source": [
    "n=int(input())\n",
    "for i in range(1,n+1):\n",
    "    p=\"\"\n",
    "    for j in range(1,i+1):\n",
    "        p=p+str(j)+\" \"\n",
    "        l=\" \"*(n-i)\n",
    "    print(l+p)\n",
    "\n",
    "for i in range(n,0,-1):\n",
    "    p=\"\"\n",
    "    for j in range(1,i):\n",
    "        p=p+str(j)+\" \"\n",
    "        l=\" \"*(n-i+1)\n",
    "    print(l+p)\n",
    "        \n",
    "        "
   ]
  },
  {
   "cell_type": "markdown",
   "id": "4427fcaf",
   "metadata": {},
   "source": [
    "# TYPE 13: INVERTED FULL PYRAMID\n",
    "    * * * \n",
    "    * * \n",
    "    * "
   ]
  },
  {
   "cell_type": "code",
   "execution_count": 18,
   "id": "18396dce",
   "metadata": {},
   "outputs": [
    {
     "name": "stdout",
     "output_type": "stream",
     "text": [
      "3\n",
      "* * * \n",
      "* * \n",
      "* \n"
     ]
    }
   ],
   "source": [
    "n=int(input())\n",
    "for i in range(n):\n",
    "    \n",
    "    print(\"* \"*(n-i))"
   ]
  },
  {
   "cell_type": "markdown",
   "id": "2374c1b9",
   "metadata": {},
   "source": [
    "# TYPE 14: HALLOW HALF PYRAMID\n",
    "    * \n",
    "    * * \n",
    "    *   * \n",
    "    *     * \n",
    "    *       * \n",
    "    * * * * * * "
   ]
  },
  {
   "cell_type": "code",
   "execution_count": 19,
   "id": "e0e1cdcb",
   "metadata": {},
   "outputs": [
    {
     "name": "stdout",
     "output_type": "stream",
     "text": [
      "6\n",
      "* \n",
      "* * \n",
      "*   * \n",
      "*     * \n",
      "*       * \n",
      "* * * * * * \n"
     ]
    }
   ],
   "source": [
    "n=int(input())\n",
    "for i in range(0,n):\n",
    "    if i==0:\n",
    "        print(\"* \")\n",
    "    elif i == n-1:\n",
    "        print(\"* \"*n)\n",
    "    else:\n",
    "        \n",
    "        h_s= \"  \"*(i-1)\n",
    "        print(\"* \"+h_s+\"* \")\n",
    "        "
   ]
  },
  {
   "cell_type": "markdown",
   "id": "c7995cad",
   "metadata": {},
   "source": [
    "# TYPE 15: HALLOW INVERTED FULL PYRAMID\n",
    "    * * * * * * \n",
    "     *       * \n",
    "      *     * \n",
    "       *   * \n",
    "        * * \n",
    "         * "
   ]
  },
  {
   "cell_type": "code",
   "execution_count": 20,
   "id": "45ee4003",
   "metadata": {},
   "outputs": [
    {
     "name": "stdout",
     "output_type": "stream",
     "text": [
      "6\n",
      "* * * * * * \n",
      " *       * \n",
      "  *     * \n",
      "   *   * \n",
      "    * * \n",
      "     * \n"
     ]
    }
   ],
   "source": [
    "n=int(input())\n",
    "for i in range(1,n+1):\n",
    "    if i==1:\n",
    "        print(\"* \"*n)\n",
    "    elif i==n:\n",
    "        print(\" \"*(n-1)+\"* \")\n",
    "    else:\n",
    "        l=\" \"*(i-1)\n",
    "        h=\"  \"*(n-i-1)\n",
    "        print(l+\"* \"+h+\"* \")"
   ]
  },
  {
   "cell_type": "markdown",
   "id": "f29da6d9",
   "metadata": {},
   "source": [
    "# TYPE 16: NUMBER PYRAMID-2\n",
    "    25 \n",
    "    24 23 \n",
    "    22 21 20 \n",
    "    19 18 17 16 \n",
    "    15 14 13 12 11 \n",
    "    10 9 8 7 6 5 "
   ]
  },
  {
   "cell_type": "code",
   "execution_count": 21,
   "id": "8092a21f",
   "metadata": {},
   "outputs": [
    {
     "name": "stdout",
     "output_type": "stream",
     "text": [
      "5\n",
      "6\n",
      "25 \n",
      "24 23 \n",
      "22 21 20 \n",
      "19 18 17 16 \n",
      "15 14 13 12 11 \n",
      "10 9 8 7 6 5 \n"
     ]
    }
   ],
   "source": [
    "n=int(input())\n",
    "k=int(input())\n",
    "N=n+ (k*(k+1)//2) - 1\n",
    "for i in range(1,k+1):\n",
    "    p=\"\"\n",
    "    for j in range(1,i+1):\n",
    "        p=p+str(N)+\" \"\n",
    "        N=N-1\n",
    "    print(p)"
   ]
  },
  {
   "cell_type": "markdown",
   "id": "346ef245",
   "metadata": {},
   "source": [
    "# TYPE 17: NUMBER PYRAMID-3\n",
    "    4 \n",
    "    5 6 \n",
    "    7 8 9 \n",
    "    10 11 12 13 \n",
    "    14 15 16 17 18 \n",
    "    19 20 21 22 23 24 "
   ]
  },
  {
   "cell_type": "code",
   "execution_count": 22,
   "id": "a1691576",
   "metadata": {},
   "outputs": [
    {
     "name": "stdout",
     "output_type": "stream",
     "text": [
      "4\n",
      "6\n",
      "4 \n",
      "5 6 \n",
      "7 8 9 \n",
      "10 11 12 13 \n",
      "14 15 16 17 18 \n",
      "19 20 21 22 23 24 \n"
     ]
    }
   ],
   "source": [
    "n=int(input())\n",
    "k=int(input())\n",
    "N=n\n",
    "for i in range(1,k+1):\n",
    "    p=\"\"\n",
    "    for j in range(1,i+1):\n",
    "        p= p+str(N)+\" \"\n",
    "        N=N+1\n",
    "    print(p)\n",
    "    "
   ]
  },
  {
   "cell_type": "markdown",
   "id": "2ca83d1e",
   "metadata": {},
   "source": [
    "# TYPE 18: RECTANGLE-2\n",
    "    + + + +  \n",
    "    - - - -  \n",
    "    + + + +  \n",
    "    - - - -  \n",
    "    + + + +  "
   ]
  },
  {
   "cell_type": "code",
   "execution_count": 23,
   "id": "888b7c62",
   "metadata": {},
   "outputs": [
    {
     "name": "stdout",
     "output_type": "stream",
     "text": [
      "5\n",
      "4\n",
      "+ + + +  \n",
      "- - - -  \n",
      "+ + + +  \n",
      "- - - -  \n",
      "+ + + +  \n"
     ]
    }
   ],
   "source": [
    "m=int(input())\n",
    "n=int(input())\n",
    "\n",
    "for i in range(m):\n",
    "    if i%2==0:\n",
    "        print(\"+ \"*n,end=\" \")\n",
    "    else:\n",
    "        print(\"- \"*n,end=\" \")\n",
    "    print()"
   ]
  },
  {
   "cell_type": "markdown",
   "id": "970cb4f1",
   "metadata": {},
   "source": [
    "# TYPE 19: HALLOW RECTANGLE\n",
    "    +------+\n",
    "    |      |\n",
    "    |      |\n",
    "    |      |\n",
    "    |      |\n",
    "    +------+"
   ]
  },
  {
   "cell_type": "code",
   "execution_count": 24,
   "id": "6d916013",
   "metadata": {},
   "outputs": [
    {
     "name": "stdout",
     "output_type": "stream",
     "text": [
      "4\n",
      "6\n",
      "+------+\n",
      "|      |\n",
      "|      |\n",
      "|      |\n",
      "|      |\n",
      "+------+\n"
     ]
    }
   ],
   "source": [
    "a = int(input())\n",
    "b = int(input())\n",
    "for i in range(a+2):\n",
    "    if i==0 or i==a+1:\n",
    "        print(\"+\"+\"-\"*b+\"+\")\n",
    "    else:\n",
    "        print(\"|\"+\" \"*b+\"|\")"
   ]
  },
  {
   "cell_type": "markdown",
   "id": "f938c060",
   "metadata": {},
   "source": [
    "# TYPE 20: DIGIT 8\n",
    "    * * * * \n",
    "    *     * \n",
    "    *     * \n",
    "    *     * \n",
    "    * * * * \n",
    "    *     * \n",
    "    *     * \n",
    "    *     * \n",
    "    * * * *"
   ]
  },
  {
   "cell_type": "code",
   "execution_count": 27,
   "id": "a3597884",
   "metadata": {},
   "outputs": [
    {
     "name": "stdout",
     "output_type": "stream",
     "text": [
      "4\n",
      "* * * * \n",
      "*     * \n",
      "*     * \n",
      "*     * \n",
      "* * * * \n",
      "*     * \n",
      "*     * \n",
      "*     * \n",
      "* * * * \n"
     ]
    }
   ],
   "source": [
    "m=int(input())\n",
    "for i in range (m+1):\n",
    "    for j in range(m):\n",
    "        if i==0 or i==m or j==0 or j==m-1:\n",
    "            print(\"*\",end=\" \")\n",
    "        else:\n",
    "            print(\" \",end=\" \")\n",
    "    print(\"\")\n",
    "for i in range(m):\n",
    "    for j in  range(m):\n",
    "        if   j==m-1 or i==m-1 or j==0:\n",
    "            print(\"*\",end=\" \")\n",
    "        else:\n",
    "            print(\" \",end=\" \")\n",
    "    print(\"\")"
   ]
  },
  {
   "cell_type": "markdown",
   "id": "8785512b",
   "metadata": {},
   "source": [
    "# TYPE 21: BUTTERFLY\n",
    "    *                         * \n",
    "    * *                     * * \n",
    "    * * *                 * * * \n",
    "    * * * *             * * * * \n",
    "    * * * * *         * * * * * \n",
    "    * * * * * *     * * * * * * \n",
    "    * * * * * * * * * * * * * * \n",
    "    * * * * * * * * * * * * * * \n",
    "    * * * * * *     * * * * * * \n",
    "    * * * * *         * * * * * \n",
    "    * * * *             * * * * \n",
    "    * * *                 * * * \n",
    "    * *                     * * \n",
    "    *                         * "
   ]
  },
  {
   "cell_type": "code",
   "execution_count": 28,
   "id": "1e75aa2f",
   "metadata": {},
   "outputs": [
    {
     "name": "stdout",
     "output_type": "stream",
     "text": [
      "7\n",
      "*                         * \n",
      "* *                     * * \n",
      "* * *                 * * * \n",
      "* * * *             * * * * \n",
      "* * * * *         * * * * * \n",
      "* * * * * *     * * * * * * \n",
      "* * * * * * * * * * * * * * \n",
      "* * * * * * * * * * * * * * \n",
      "* * * * * *     * * * * * * \n",
      "* * * * *         * * * * * \n",
      "* * * *             * * * * \n",
      "* * *                 * * * \n",
      "* *                     * * \n",
      "*                         * \n"
     ]
    }
   ],
   "source": [
    "n=int(input())\n",
    "for i in range(1,n+1):\n",
    "    for j in range(i,i+1):\n",
    "        h = \"  \"*(2*n-2*i)\n",
    "        \n",
    "    print(\"* \"*i+h+i*\"* \")\n",
    "for i in range(n,0,-1):\n",
    "    for j in range(2*n,2*n+1):\n",
    "        h = \"  \"*((n-i)*2)\n",
    "    print(\"* \"*(i)+h+(i)*\"* \")"
   ]
  },
  {
   "cell_type": "code",
   "execution_count": null,
   "id": "69bfc9a1",
   "metadata": {},
   "outputs": [],
   "source": []
  }
 ],
 "metadata": {
  "kernelspec": {
   "display_name": "Python 3 (ipykernel)",
   "language": "python",
   "name": "python3"
  },
  "language_info": {
   "codemirror_mode": {
    "name": "ipython",
    "version": 3
   },
   "file_extension": ".py",
   "mimetype": "text/x-python",
   "name": "python",
   "nbconvert_exporter": "python",
   "pygments_lexer": "ipython3",
   "version": "3.9.7"
  }
 },
 "nbformat": 4,
 "nbformat_minor": 5
}
